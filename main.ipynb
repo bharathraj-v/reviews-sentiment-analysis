{
 "cells": [
  {
   "cell_type": "code",
   "execution_count": 1,
   "metadata": {},
   "outputs": [],
   "source": [
    "from selenium import webdriver\n",
    "from wordcloud import WordCloud, STOPWORDS\n",
    "import matplotlib.pyplot as plt\n",
    "from transformers import pipeline\n",
    "import csv"
   ]
  },
  {
   "cell_type": "code",
   "execution_count": 2,
   "metadata": {},
   "outputs": [
    {
     "name": "stderr",
     "output_type": "stream",
     "text": [
      "/tmp/ipykernel_1396059/1744012654.py:1: DeprecationWarning: executable_path has been deprecated, please pass in a Service object\n",
      "  driver = webdriver.Chrome(\"/usr/bin/chromedriver\")\n"
     ]
    }
   ],
   "source": [
    "driver = webdriver.Chrome(\"/usr/bin/chromedriver\")\n",
    "\n",
    "\n",
    "driver.get(\"https://www.amazon.in/Apple-iPhone-13-Mini-256GB/dp/B09G99CW2C/ref=sr_1_6?keywords=iphone%2B13&qid=1665947049&qu=eyJxc2MiOiI0LjU4IiwicXNhIjoiNC4wNCIsInFzcCI6IjMuNDQifQ%3D%3D&sprefix=iphon%2Caps%2C267&sr=8-6&th=1\")\n",
    "\n",
    "driver.find_elements(\"xpath\", \"//a[@data-hook='see-all-reviews-link-foot']\")[0].click()\n",
    "\n",
    "\n",
    "next_page = driver.find_elements(\"xpath\", \"//li[@class='a-last']\")\n",
    "reviews = []\n",
    "while next_page:\n",
    "    reviews.extend([i.text for i in driver.find_elements(\"xpath\",\"//div[@data-hook='review']\")])\n",
    "    next_page[0].click()\n",
    "    driver.refresh()\n",
    "    next_page = driver.find_elements(\"xpath\", \"//li[@class='a-last']\")\n",
    "\n",
    "driver.close()\n"
   ]
  }
 ],
 "metadata": {
  "kernelspec": {
   "display_name": "Python 3.9.12 ('base')",
   "language": "python",
   "name": "python3"
  },
  "language_info": {
   "codemirror_mode": {
    "name": "ipython",
    "version": 3
   },
   "file_extension": ".py",
   "mimetype": "text/x-python",
   "name": "python",
   "nbconvert_exporter": "python",
   "pygments_lexer": "ipython3",
   "version": "3.9.12"
  },
  "orig_nbformat": 4,
  "vscode": {
   "interpreter": {
    "hash": "2e3c7c3ef8a7f346e5d74a5d237a5b0a0c110885718606e55542db56c5c1a0b6"
   }
  }
 },
 "nbformat": 4,
 "nbformat_minor": 2
}
